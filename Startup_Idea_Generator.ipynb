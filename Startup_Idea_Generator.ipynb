{
  "nbformat": 4,
  "nbformat_minor": 0,
  "metadata": {
    "colab": {
      "provenance": [],
      "authorship_tag": "ABX9TyMQO4Y+BmUVOqYyp42Q/u7C",
      "include_colab_link": true
    },
    "kernelspec": {
      "name": "python3",
      "display_name": "Python 3"
    },
    "language_info": {
      "name": "python"
    }
  },
  "cells": [
    {
      "cell_type": "markdown",
      "metadata": {
        "id": "view-in-github",
        "colab_type": "text"
      },
      "source": [
        "<a href=\"https://colab.research.google.com/github/Ammad12345390/Startup-idea-generator/blob/main/Startup_Idea_Generator.ipynb\" target=\"_parent\"><img src=\"https://colab.research.google.com/assets/colab-badge.svg\" alt=\"Open In Colab\"/></a>"
      ]
    },
    {
      "cell_type": "code",
      "execution_count": null,
      "metadata": {
        "colab": {
          "base_uri": "https://localhost:8080/"
        },
        "id": "HROV9gV-YSnE",
        "outputId": "43ab1467-c1b7-4908-d56b-7f5c449e3e7b"
      },
      "outputs": [
        {
          "output_type": "stream",
          "name": "stdout",
          "text": [
            "Requirement already satisfied: openai in /usr/local/lib/python3.11/dist-packages (1.97.1)\n",
            "Requirement already satisfied: anyio<5,>=3.5.0 in /usr/local/lib/python3.11/dist-packages (from openai) (4.9.0)\n",
            "Requirement already satisfied: distro<2,>=1.7.0 in /usr/local/lib/python3.11/dist-packages (from openai) (1.9.0)\n",
            "Requirement already satisfied: httpx<1,>=0.23.0 in /usr/local/lib/python3.11/dist-packages (from openai) (0.28.1)\n",
            "Requirement already satisfied: jiter<1,>=0.4.0 in /usr/local/lib/python3.11/dist-packages (from openai) (0.10.0)\n",
            "Requirement already satisfied: pydantic<3,>=1.9.0 in /usr/local/lib/python3.11/dist-packages (from openai) (2.11.7)\n",
            "Requirement already satisfied: sniffio in /usr/local/lib/python3.11/dist-packages (from openai) (1.3.1)\n",
            "Requirement already satisfied: tqdm>4 in /usr/local/lib/python3.11/dist-packages (from openai) (4.67.1)\n",
            "Requirement already satisfied: typing-extensions<5,>=4.11 in /usr/local/lib/python3.11/dist-packages (from openai) (4.14.1)\n",
            "Requirement already satisfied: idna>=2.8 in /usr/local/lib/python3.11/dist-packages (from anyio<5,>=3.5.0->openai) (3.10)\n",
            "Requirement already satisfied: certifi in /usr/local/lib/python3.11/dist-packages (from httpx<1,>=0.23.0->openai) (2025.7.14)\n",
            "Requirement already satisfied: httpcore==1.* in /usr/local/lib/python3.11/dist-packages (from httpx<1,>=0.23.0->openai) (1.0.9)\n",
            "Requirement already satisfied: h11>=0.16 in /usr/local/lib/python3.11/dist-packages (from httpcore==1.*->httpx<1,>=0.23.0->openai) (0.16.0)\n",
            "Requirement already satisfied: annotated-types>=0.6.0 in /usr/local/lib/python3.11/dist-packages (from pydantic<3,>=1.9.0->openai) (0.7.0)\n",
            "Requirement already satisfied: pydantic-core==2.33.2 in /usr/local/lib/python3.11/dist-packages (from pydantic<3,>=1.9.0->openai) (2.33.2)\n",
            "Requirement already satisfied: typing-inspection>=0.4.0 in /usr/local/lib/python3.11/dist-packages (from pydantic<3,>=1.9.0->openai) (0.4.1)\n"
          ]
        }
      ],
      "source": [
        "!pip install openai"
      ]
    },
    {
      "cell_type": "code",
      "source": [
        "import openai\n",
        "import os\n",
        "\n",
        "\n",
        "openai.api_key = \"sk-\" # set your real open ai key"
      ],
      "metadata": {
        "id": "CD_pALbXZ0yB"
      },
      "execution_count": null,
      "outputs": []
    },
    {
      "cell_type": "code",
      "source": [
        "def generate_prompt(industry, audience):\n",
        "    return f\"\"\"\n",
        "You are a startup idea generator. Based on the inputs below, generate a creative and realistic startup idea.\n",
        "\n",
        "Industry: {industry}\n",
        "Target Audience: {audience}\n",
        "\n",
        "Return your output in this exact format:\n",
        "Startup Name: <Name>\n",
        "One-line Pitch: <Short, catchy pitch>\n",
        "Short Description: <3–5 lines describing the startup, its purpose, and features>\n",
        "Monetization Strategy: <How will this startup make money?>\n",
        "\"\"\"\n"
      ],
      "metadata": {
        "id": "XU7eCn7SlQVY"
      },
      "execution_count": null,
      "outputs": []
    },
    {
      "cell_type": "code",
      "source": [
        "def get_startup_idea(industry, audience):\n",
        "    prompt = generate_prompt(industry, audience)\n",
        "    response = openai.chat.completions.create(\n",
        "        model=\"gpt-4.1-nano\",\n",
        "        messages=[\n",
        "            {\"role\": \"system\", \"content\": \"You generate creative startup ideas.\"},\n",
        "            {\"role\": \"user\", \"content\": prompt}\n",
        "        ],\n",
        "        temperature=0.8,\n",
        "        max_tokens=400\n",
        "    )\n",
        "    return response.choices[0].message.content.strip()"
      ],
      "metadata": {
        "id": "4U5KdCMFOujl"
      },
      "execution_count": null,
      "outputs": []
    },
    {
      "cell_type": "code",
      "source": [
        "def run_generator():\n",
        "    industry = input(\"Enter industry: \")\n",
        "    audience = input(\"Enter target audience: \")\n",
        "\n",
        "    idea = get_startup_idea(industry, audience)\n",
        "    print(\"\\n💡 Generated Startup Idea:\\n\")\n",
        "    print(idea)"
      ],
      "metadata": {
        "id": "2MchuyJIO2Bd"
      },
      "execution_count": null,
      "outputs": []
    },
    {
      "cell_type": "code",
      "source": [
        "if __name__ == \"__main__\":\n",
        "    run_generator()"
      ],
      "metadata": {
        "colab": {
          "base_uri": "https://localhost:8080/"
        },
        "id": "jebnuPLvO4sH",
        "outputId": "30f98b15-ea01-4be6-f4bd-480213b1f1a0"
      },
      "execution_count": null,
      "outputs": [
        {
          "output_type": "stream",
          "name": "stdout",
          "text": [
            "Enter industry: ecommerce\n",
            "Enter target audience: students\n",
            "\n",
            "💡 Generated Startup Idea:\n",
            "\n",
            "Startup Name: StudySwap  \n",
            "One-line Pitch: The social marketplace where students trade and sell textbooks, notes, and study resources effortlessly.  \n",
            "Short Description: StudySwap is an e-commerce platform designed exclusively for students to exchange or sell their academic materials. It features a user-friendly interface, verified profiles, and themed communities for different courses and campuses. The app fosters a collaborative learning environment while making it easy to access affordable study materials.  \n",
            "Monetization Strategy: Revenue from transaction fees, featured listings, premium memberships for additional visibility, and targeted advertising for educational products and services.\n"
          ]
        }
      ]
    }
  ]
}